{
 "metadata": {
  "language_info": {
   "codemirror_mode": {
    "name": "ipython",
    "version": 3
   },
   "file_extension": ".py",
   "mimetype": "text/x-python",
   "name": "python",
   "nbconvert_exporter": "python",
   "pygments_lexer": "ipython3",
   "version": "3.8.5"
  },
  "orig_nbformat": 4,
  "kernelspec": {
   "name": "python3",
   "display_name": "Python 3.8.5 64-bit ('base': conda)"
  },
  "interpreter": {
   "hash": "d8707cccc58895cc2a6335064c2a5aa855568f19de86e9443820411760093b2b"
  }
 },
 "nbformat": 4,
 "nbformat_minor": 2,
 "cells": [
  {
   "cell_type": "code",
   "execution_count": 1,
   "source": [
    "import subprocess\n",
    "import random\n",
    "import numpy as np\n",
    "import time\n",
    "import os\n",
    "import csv\n",
    "import matplotlib.pyplot as plt\n",
    "import glob"
   ],
   "outputs": [],
   "metadata": {}
  },
  {
   "cell_type": "code",
   "execution_count": 2,
   "source": [
    "def generateArray(size, seed=None):\n",
    "    random.seed(seed)\n",
    "    if os.path.isfile(f\"data/array-{size}.txt\"): return\n",
    "    with open(f\"data/array-{size}.txt\", \"w\") as f:\n",
    "        for i in np.arange(size, 0, -1, dtype=np.int64): f.write(str(i) + ' ')\n",
    "\n",
    "def compile(source_file):\n",
    "    start_time = time.time()\n",
    "    process = subprocess.Popen([\"g++\", \"./lib/System.cpp\", f'algorithms/{source_file}', \"-o\", f'./bin/{source_file[:-4]}', \"-lpapi\", \"-O0\", \"-I./lib/\", \"-I.\", \"-lm\"], stdout=subprocess.PIPE, stderr=subprocess.PIPE)\n",
    "    stdout, stderr = process.communicate()\n",
    "    end_time = (time.time() - start_time)\n",
    "    print(f\"Compile time: {end_time}s\")\n",
    "    if stderr:\n",
    "        print(\"Error:\\n\" + stderr.decode(\"utf-8\"))\n",
    "        return False\n",
    "    else:\n",
    "        print(\"Compiled with success\")\n",
    "        return True\n",
    "\n",
    "def run(source_file, args, array_size, log=False):\n",
    "    start_time = time.time()\n",
    "    process = subprocess.Popen([\"./bin/\"+source_file[:-4], *args.split()], stdout=subprocess.PIPE, stderr=subprocess.PIPE)\n",
    "    stdout, stderr = process.communicate()\n",
    "    end_time = (time.time() - start_time)\n",
    "    if log: print(f\"{array_size} run time: {end_time}s\")\n",
    "    if stderr:\n",
    "        if log:\n",
    "            print(\"Error:\\n\" + stderr.decode(\"utf-8\"))\n",
    "        return False\n",
    "    else:\n",
    "        if log: \n",
    "            print(\"Runned with success\")\n",
    "            print('stdout:\\n' + stdout.decode(\"utf-8\"))\n",
    "        return True\n",
    "\n",
    "def plotData(filename, title):\n",
    "    with open(filename) as csv_file:\n",
    "        csv_reader = csv.reader(csv_file, delimiter=';')\n",
    "        line_count = 0\n",
    "        array_size = []\n",
    "        time_spent = []\n",
    "        PAPI_TOT_CYC = []\n",
    "        PAPI_REF_CYC = []\n",
    "        PAPI_L3_TCM = []\n",
    "        for row in csv_reader:\n",
    "            if line_count == 0:\n",
    "                print(f'Column names are {\", \".join(row)}')\n",
    "                line_count += 1\n",
    "            else:\n",
    "                array_size.append(int(row[0]))\n",
    "                time_spent.append(float(row[1]))\n",
    "                PAPI_TOT_CYC.append(int(row[2]))\n",
    "                PAPI_REF_CYC.append(int(row[3]))\n",
    "                PAPI_L3_TCM.append(int(row[4]))\n",
    "                line_count += 1\n",
    "        # print(f'Processed {line_count} lines.')\n",
    "        plt.figure(figsize=(30, 20))\n",
    "        plt.plot(array_size, time_spent)\n",
    "        # plt.plot(array_size, PAPI_TOT_CYC)\n",
    "        # plt.plot(array_size, PAPI_REF_CYC)\n",
    "        # plt.plot(array_size, PAPI_L3_TCM)\n",
    "        plt.xticks(np.arange(min(array_size), max(array_size)+128, 128**1.7))\n",
    "        # plt.yticks(np.arange(min(time_spent), max(time_spent)+1, 0.002**2))\n",
    "        plt.xlabel('Array size')\n",
    "        plt.ylabel('Time spent(s)')\n",
    "        plt.title(title)\n",
    "        plt.show()\n",
    "\n",
    "def generateResultFile(filename, headers):\n",
    "    data_filename = f'results/result_{filename[:-4]}.txt'\n",
    "    if os.path.exists(data_filename):\n",
    "        os.remove(data_filename)\n",
    "    with open(data_filename, 'w') as data_file:\n",
    "        data_file.write(headers)\n",
    "\n",
    "def clean_data_files():\n",
    "    files = glob.glob('data/*')\n",
    "    print(\"Cleaning data/ ~\")\n",
    "    for f in files:\n",
    "        os.remove(f)"
   ],
   "outputs": [],
   "metadata": {}
  },
  {
   "cell_type": "code",
   "execution_count": 3,
   "source": [
    "filename = 'quick_sort.cpp'\n",
    "if compile(filename):\n",
    "    generateResultFile(filename, 'array_size;time_spent(s);PAPI_TOT_CYC;PAPI_REF_CYC;PAPI_L3_TCM\\n')\n",
    "\n",
    "    for array_size in np.arange(2048, 128000+1, 128):\n",
    "        generateArray(size=array_size)\n",
    "        run(filename, f'./data/array-{array_size}.txt {array_size}', array_size);\n",
    "    \n",
    "    plotData('results/result_quick_sort.txt', 'Quick Sort\\nArray size X Time spent(s)')"
   ],
   "outputs": [
    {
     "output_type": "stream",
     "name": "stdout",
     "text": [
      "Compile time: 0.9669678211212158s\n",
      "Compiled with success\n"
     ]
    }
   ],
   "metadata": {
    "tags": []
   }
  },
  {
   "cell_type": "code",
   "execution_count": null,
   "source": [
    "filename = 'merge_sort.cpp'\n",
    "if compile(filename):\n",
    "    generateResultFile(filename, 'array_size;time_spent(s);PAPI_TOT_CYC;PAPI_REF_CYC;PAPI_L3_TCM\\n')\n",
    "\n",
    "    for array_size in np.arange(2048, 128000+1, 128):\n",
    "        generateArray(size=array_size)\n",
    "        run(filename, f'./data/array-{array_size}.txt {array_size}', array_size);\n",
    "    \n",
    "    plotData('results/result_merge_sort.txt', 'Heap Sort\\nArray size X Time spent')"
   ],
   "outputs": [
    {
     "output_type": "stream",
     "name": "stdout",
     "text": [
      "Compile time: 0.9268374443054199s\n",
      "Compiled with success\n"
     ]
    }
   ],
   "metadata": {}
  },
  {
   "cell_type": "code",
   "execution_count": null,
   "source": [
    "# clean_data_files()"
   ],
   "outputs": [],
   "metadata": {}
  }
 ]
}