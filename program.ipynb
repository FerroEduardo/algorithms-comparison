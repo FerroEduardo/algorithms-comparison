{
 "cells": [
  {
   "cell_type": "code",
   "execution_count": null,
   "metadata": {},
   "outputs": [],
   "source": [
    "import matplotlib.pyplot as plt\n",
    "from pathlib import Path\n",
    "import numpy as np\n",
    "import subprocess\n",
    "import matplotlib\n",
    "import getpass\n",
    "import random\n",
    "import time\n",
    "import glob\n",
    "import csv\n",
    "import sys\n",
    "import os"
   ]
  },
  {
   "cell_type": "code",
   "execution_count": null,
   "metadata": {},
   "outputs": [],
   "source": [
    "from IPython.core.display import display, HTML\n",
    "display(HTML(\"<style>.container { width:90% !important; }</style>\"))"
   ]
  },
  {
   "cell_type": "code",
   "execution_count": null,
   "metadata": {
    "execution": {
     "iopub.execute_input": "2021-08-11T23:01:03.455770Z",
     "iopub.status.busy": "2021-08-11T23:01:03.454952Z",
     "iopub.status.idle": "2021-08-11T23:01:10.579987Z",
     "shell.execute_reply": "2021-08-11T23:01:10.579146Z",
     "shell.execute_reply.started": "2021-08-11T23:01:03.455685Z"
    }
   },
   "outputs": [],
   "source": [
    "cpu_model = None\n",
    "while not cpu_model:\n",
    "    cpu_model = input('Qual é o seu processador? ').replace(' ', '_')\n",
    "Path(f'./results/processors/{cpu_model}').mkdir(parents=True, exist_ok=True)"
   ]
  },
  {
   "cell_type": "code",
   "execution_count": null,
   "metadata": {
    "execution": {
     "iopub.execute_input": "2021-08-11T23:18:35.243302Z",
     "iopub.status.busy": "2021-08-11T23:18:35.242928Z",
     "iopub.status.idle": "2021-08-11T23:18:35.299775Z",
     "shell.execute_reply": "2021-08-11T23:18:35.298816Z",
     "shell.execute_reply.started": "2021-08-11T23:18:35.243273Z"
    }
   },
   "outputs": [],
   "source": [
    "def generateArray(size, seed=None):\n",
    "    random.seed(seed)\n",
    "    if os.path.isfile(f\"data/array-{size}.txt\"): return\n",
    "    with open(f\"data/array-{size}.txt\", \"w\") as f:\n",
    "        for i in np.arange(size, 0, -1, dtype=np.int64): f.write(str(i) + ' ')\n",
    "\n",
    "def compile(source_file):\n",
    "    print(*[\"g++\", \"./lib/System.cpp\", \"./lib/App.hpp\", f'algorithms/{source_file}', \"-o\", f'./bin/{source_file[:-4]}', \"-lpapi\", \"-O0\", \"-I./lib/\", \"-I.\", \"-lm\"])\n",
    "    start_time = time.time()\n",
    "    process = subprocess.Popen([\"g++\", \"./lib/System.cpp\", f'algorithms/{source_file}', \"-o\", f'./bin/{source_file[:-4]}', \"-lpapi\", \"-O0\", \"-I./lib/\", \"-I.\", \"-lm\"], stdout=subprocess.PIPE, stderr=subprocess.PIPE)\n",
    "    stdout, stderr = process.communicate()\n",
    "    end_time = (time.time() - start_time)\n",
    "    print(f\"Compile time: {end_time}s\")\n",
    "    if stderr:\n",
    "        print(\"Error:\\n\" + stderr.decode(\"utf-8\"))\n",
    "        return False\n",
    "    else:\n",
    "        print(\"Compiled with success\")\n",
    "        return True\n",
    "\n",
    "def run(source_file, args, array_size, log=False):\n",
    "    start_time = time.time()\n",
    "    process = subprocess.Popen([\"./bin/\"+source_file[:-4], *args.split()], stdout=subprocess.PIPE, stderr=subprocess.PIPE)\n",
    "    stdout, stderr = process.communicate()\n",
    "    end_time = (time.time() - start_time)\n",
    "    if log: print(f\"{array_size} run time: {end_time}s\")\n",
    "    if stderr:\n",
    "        if log:\n",
    "            print(\"Error:\\n\" + stderr.decode(\"utf-8\"))\n",
    "        return False\n",
    "    else:\n",
    "        if log: \n",
    "            print(\"Runned with success\")\n",
    "            print('stdout:\\n' + stdout.decode(\"utf-8\"))\n",
    "        return True\n",
    "def generateResultFile(filename, headers):\n",
    "    data_filename = f'results/processors/{cpu_model}/result_{filename[:-4]}.txt'\n",
    "    if os.path.exists(data_filename):\n",
    "        os.remove(data_filename)\n",
    "    with open(data_filename, 'w') as data_file:\n",
    "        data_file.write(headers)\n",
    "\n",
    "def clean_data_files():\n",
    "    files = glob.glob('data/*')\n",
    "    print(\"Cleaning data/ ~\")\n",
    "    for f in files:\n",
    "        os.remove(f)\n",
    "\n",
    "def enableKernelEvents():\n",
    "    with open(\"/proc/sys/kernel/perf_event_paranoid\", \"r\") as f:\n",
    "        r = f.readline().strip()\n",
    "        print('/proc/sys/kernel/perf_event_paranoid -> ' + r)\n",
    "        if r != '0':\n",
    "            print('Type your password to unlock some kernel events. REQUIRED')\n",
    "            command = \"sudo -S sh -c 'echo 0 >/proc/sys/kernel/perf_event_paranoid'\"\n",
    "            password = getpass.getpass()\n",
    "            aa = os.system('echo %s | %s' % (password, command))\n",
    "            password = None\n",
    "            enableKernelEvents()\n",
    "        else:\n",
    "            print(\"Success\")\n",
    "\n",
    "def getProcessorList():\n",
    "    dirlist = []\n",
    "    for filename in os.listdir(\"./results/processors/\"):\n",
    "        if os.path.isdir(os.path.join(\"./results/processors/\",filename)):\n",
    "            dirlist.append(filename)\n",
    "    if '.ipynb_checkpoints' in dirlist:\n",
    "        dirlist.remove('.ipynb_checkpoints')\n",
    "    return dirlist"
   ]
  },
  {
   "cell_type": "code",
   "execution_count": null,
   "metadata": {
    "execution": {
     "iopub.execute_input": "2021-08-11T23:01:16.041187Z",
     "iopub.status.busy": "2021-08-11T23:01:16.040822Z",
     "iopub.status.idle": "2021-08-11T23:01:16.051618Z",
     "shell.execute_reply": "2021-08-11T23:01:16.050716Z",
     "shell.execute_reply.started": "2021-08-11T23:01:16.041128Z"
    }
   },
   "outputs": [],
   "source": [
    "enableKernelEvents()"
   ]
  },
  {
   "cell_type": "code",
   "execution_count": null,
   "metadata": {
    "execution": {
     "iopub.execute_input": "2021-08-11T20:44:07.319645Z",
     "iopub.status.busy": "2021-08-11T20:44:07.319478Z",
     "iopub.status.idle": "2021-08-11T20:44:38.548455Z",
     "shell.execute_reply": "2021-08-11T20:44:38.546586Z",
     "shell.execute_reply.started": "2021-08-11T20:44:07.319624Z"
    },
    "scrolled": false,
    "tags": []
   },
   "outputs": [],
   "source": [
    "filename = 'quick_sort.cpp'\n",
    "if compile(filename):\n",
    "    generateResultFile(filename, 'array_size;time_spent(s);PAPI_L1_TCM;PAPI_L2_TCM;PAPI_L3_TCM;DATA_BYTES;NUM_INSTRUCTIONS;PAPI_TOT_INS\\n')\n",
    "\n",
    "    for array_size in np.arange(2048, 128000+1, 128):\n",
    "        generateArray(size=array_size)\n",
    "        run(filename, f'./data/array-{array_size}.txt {array_size} {cpu_model}', array_size, log=False);"
   ]
  },
  {
   "cell_type": "code",
   "execution_count": null,
   "metadata": {
    "execution": {
     "iopub.execute_input": "2021-08-11T20:44:38.551685Z",
     "iopub.status.busy": "2021-08-11T20:44:38.551171Z",
     "iopub.status.idle": "2021-08-11T20:45:13.836161Z",
     "shell.execute_reply": "2021-08-11T20:45:13.835313Z",
     "shell.execute_reply.started": "2021-08-11T20:44:38.551628Z"
    },
    "scrolled": false
   },
   "outputs": [],
   "source": [
    "filename = 'merge_sort.cpp'\n",
    "if compile(filename):\n",
    "    generateResultFile(filename, 'array_size;time_spent(s);PAPI_L1_TCM;PAPI_L2_TCM;PAPI_L3_TCM;DATA_BYTES;NUM_INSTRUCTIONS;PAPI_TOT_INS\\n')\n",
    "\n",
    "    for array_size in np.arange(2048, 128000+1, 128):\n",
    "        generateArray(size=array_size)\n",
    "        run(filename, f'./data/array-{array_size}.txt {array_size} {cpu_model}', array_size, log=False);"
   ]
  }
 ],
 "metadata": {
  "interpreter": {
   "hash": "d8707cccc58895cc2a6335064c2a5aa855568f19de86e9443820411760093b2b"
  },
  "kernelspec": {
   "display_name": "Python 3",
   "language": "python",
   "name": "python3"
  },
  "language_info": {
   "codemirror_mode": {
    "name": "ipython",
    "version": 3
   },
   "file_extension": ".py",
   "mimetype": "text/x-python",
   "name": "python",
   "nbconvert_exporter": "python",
   "pygments_lexer": "ipython3",
   "version": "3.8.5"
  }
 },
 "nbformat": 4,
 "nbformat_minor": 4
}
